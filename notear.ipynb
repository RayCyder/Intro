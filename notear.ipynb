{
  "nbformat": 4,
  "nbformat_minor": 0,
  "metadata": {
    "colab": {
      "provenance": [],
      "toc_visible": true,
      "authorship_tag": "ABX9TyP/lXSvzApLS+7XPMs0M3yu",
      "include_colab_link": true
    },
    "kernelspec": {
      "name": "python3",
      "display_name": "Python 3"
    },
    "language_info": {
      "name": "python"
    }
  },
  "cells": [
    {
      "cell_type": "markdown",
      "metadata": {
        "id": "view-in-github",
        "colab_type": "text"
      },
      "source": [
        "<a href=\"https://colab.research.google.com/github/RayCyder/Intro/blob/main/notear.ipynb\" target=\"_parent\"><img src=\"https://colab.research.google.com/assets/colab-badge.svg\" alt=\"Open In Colab\"/></a>"
      ]
    },
    {
      "cell_type": "markdown",
      "source": [
        "线性因果结构探索，基于notear"
      ],
      "metadata": {
        "id": "yAufZpGRa4ej"
      }
    },
    {
      "cell_type": "markdown",
      "source": [
        "# 环境配置"
      ],
      "metadata": {
        "id": "x4CbrJIsNR00"
      }
    },
    {
      "cell_type": "markdown",
      "source": [
        "## 下载代码"
      ],
      "metadata": {
        "id": "zQq1zZB0NKKd"
      }
    },
    {
      "cell_type": "code",
      "execution_count": 1,
      "metadata": {
        "colab": {
          "base_uri": "https://localhost:8080/"
        },
        "id": "GT6Hfn2OG6E6",
        "outputId": "72c5fae9-14af-4104-f994-a4008b7007d0"
      },
      "outputs": [
        {
          "output_type": "stream",
          "name": "stdout",
          "text": [
            "Cloning into 'notears'...\n",
            "remote: Enumerating objects: 20, done.\u001b[K\n",
            "remote: Counting objects: 100% (20/20), done.\u001b[K\n",
            "remote: Compressing objects: 100% (18/18), done.\u001b[K\n",
            "remote: Total 20 (delta 1), reused 12 (delta 0), pack-reused 0 (from 0)\u001b[K\n",
            "Receiving objects: 100% (20/20), 19.81 KiB | 9.90 MiB/s, done.\n",
            "Resolving deltas: 100% (1/1), done.\n"
          ]
        }
      ],
      "source": [
        "!git clone https://github.com/xunzheng/notears.git --depth=1 || echo \"Repository already cloned or another error occurred.\""
      ]
    },
    {
      "cell_type": "code",
      "source": [
        "!ls notears/"
      ],
      "metadata": {
        "colab": {
          "base_uri": "https://localhost:8080/"
        },
        "id": "wNhO5G5QHzmz",
        "outputId": "0c0dc1ed-3034-44d6-d85a-784a91551ae8"
      },
      "execution_count": 3,
      "outputs": [
        {
          "output_type": "stream",
          "name": "stdout",
          "text": [
            "bin  Dockerfile  experiments  LICENSE  notears\tREADME.md  setup.py\n"
          ]
        }
      ]
    },
    {
      "cell_type": "markdown",
      "source": [
        "## 安装依赖"
      ],
      "metadata": {
        "id": "_v6dABRBNeNq"
      }
    },
    {
      "cell_type": "code",
      "source": [
        "!pip3 install  --no-cache  numpy \\\n",
        "                                      scipy \\\n",
        "                                      python-igraph \\\n",
        "                                      tqdm"
      ],
      "metadata": {
        "colab": {
          "base_uri": "https://localhost:8080/"
        },
        "id": "T_CCqF7UIok_",
        "outputId": "91a4eba5-07f6-4414-d647-8ac6bec35d79"
      },
      "execution_count": 4,
      "outputs": [
        {
          "output_type": "stream",
          "name": "stdout",
          "text": [
            "Requirement already satisfied: numpy in /usr/local/lib/python3.11/dist-packages (1.26.4)\n",
            "Requirement already satisfied: scipy in /usr/local/lib/python3.11/dist-packages (1.13.1)\n",
            "Collecting python-igraph\n",
            "  Downloading python_igraph-0.11.8-py3-none-any.whl.metadata (2.8 kB)\n",
            "Requirement already satisfied: tqdm in /usr/local/lib/python3.11/dist-packages (4.67.1)\n",
            "Collecting igraph==0.11.8 (from python-igraph)\n",
            "  Downloading igraph-0.11.8-cp39-abi3-manylinux_2_17_x86_64.manylinux2014_x86_64.whl.metadata (3.8 kB)\n",
            "Collecting texttable>=1.6.2 (from igraph==0.11.8->python-igraph)\n",
            "  Downloading texttable-1.7.0-py2.py3-none-any.whl.metadata (9.8 kB)\n",
            "Downloading python_igraph-0.11.8-py3-none-any.whl (9.1 kB)\n",
            "Downloading igraph-0.11.8-cp39-abi3-manylinux_2_17_x86_64.manylinux2014_x86_64.whl (3.1 MB)\n",
            "\u001b[2K   \u001b[90m━━━━━━━━━━━━━━━━━━━━━━━━━━━━━━━━━━━━━━━━\u001b[0m \u001b[32m3.1/3.1 MB\u001b[0m \u001b[31m36.2 MB/s\u001b[0m eta \u001b[36m0:00:00\u001b[0m\n",
            "\u001b[?25hDownloading texttable-1.7.0-py2.py3-none-any.whl (10 kB)\n",
            "Installing collected packages: texttable, igraph, python-igraph\n",
            "Successfully installed igraph-0.11.8 python-igraph-0.11.8 texttable-1.7.0\n"
          ]
        }
      ]
    },
    {
      "cell_type": "markdown",
      "source": [
        "# 代码"
      ],
      "metadata": {
        "id": "36lmyjlQQeD8"
      }
    },
    {
      "cell_type": "markdown",
      "source": [
        "暂时未用\n",
        "$$\n",
        "H2=−logdet(sI−W\\circ W)+dlogs\n",
        "$$"
      ],
      "metadata": {
        "id": "qJLk6OhCNlTS"
      }
    },
    {
      "cell_type": "code",
      "source": [
        "import numpy as np\n",
        "import scipy.linalg as slin\n",
        "import scipy.linalg as sla\n",
        "import numpy.linalg as la\n",
        "import math\n",
        "def H2(B, s=1.0):\n",
        "    d = B.shape[0]\n",
        "    Id = np.eye(d)\n",
        "    W = B*0.5\n",
        "    #−logdet(sI−W◦W)+dlogs\n",
        "    M = s * Id - W * W\n",
        "    h = - la.slogdet(M)[1]\n",
        "    if math.isinf(h):\n",
        "        print(h)\n",
        "    h = h+ d * np.log(s)\n",
        "    if h < 0:\n",
        "        print(h)\n",
        "    #G_h = 2 * W * sla.inv(M).T\n",
        "    return h#, G_h"
      ],
      "metadata": {
        "id": "OvnpI2NVIvbk"
      },
      "execution_count": 6,
      "outputs": []
    },
    {
      "cell_type": "markdown",
      "source": [
        "$$\n",
        "H=e^B-d,B=W>=tau\n",
        "$$"
      ],
      "metadata": {
        "id": "ILNFg_rfNmw7"
      }
    },
    {
      "cell_type": "code",
      "source": [
        "def H(B):\n",
        "    e_B = slin.expm(B*B) #\n",
        "    return np.trace(e_B)-B.shape[0]\n",
        "def gradient_H(B):\n",
        "    pass"
      ],
      "metadata": {
        "id": "ablD5DF2JPex"
      },
      "execution_count": 7,
      "outputs": []
    },
    {
      "cell_type": "code",
      "source": [
        "def B(W,tau=0.01):\n",
        "    value = (np.abs(W)>=tau).astype(int)\n",
        "    return value"
      ],
      "metadata": {
        "id": "3GTt3mzDJdpQ"
      },
      "execution_count": 8,
      "outputs": []
    },
    {
      "cell_type": "code",
      "source": [],
      "metadata": {
        "id": "fFWkndckJhRT"
      },
      "execution_count": null,
      "outputs": []
    },
    {
      "cell_type": "markdown",
      "source": [
        "梯度下降法求解F,暂时忽略1范数:\n",
        "$$\n",
        "F(W) = \\ell(W; \\mathbf{X}) + \\lambda \\| W \\|_1 = \\frac{1}{2n} \\| \\mathbf{X} - \\mathbf{X} W \\|_F^2 + \\lambda \\| W \\|_1  \\\\\n",
        "$$\n",
        "$$\n",
        "\\nabla F(W)=-\\frac{1}{n}X^{T}(X-XW)\n",
        "$$\n",
        "\n"
      ],
      "metadata": {
        "id": "Pj91ZvNQN-ax"
      }
    },
    {
      "cell_type": "code",
      "source": [
        "\n",
        "def gradient_F(X,W):\n",
        "    gradient = -(1 / n) * X.T @ (X - X @ (W))\n",
        "    return gradient\n",
        "def F(X,W):\n",
        "    return np.linalg.norm(X-X@W,ord='fro')**2"
      ],
      "metadata": {
        "id": "PmXNRdFtJRJi"
      },
      "execution_count": 9,
      "outputs": []
    },
    {
      "cell_type": "code",
      "source": [
        "def solve_F(X,W,B=None,step=0.001,iter=100,tol=1e-6):\n",
        "    if B is None:\n",
        "        B = np.ones_like(W)\n",
        "    d = X.shape[1]\n",
        "    # W = np.zeros((d,d))\n",
        "    for i in range(iter):\n",
        "        g = gradient_F(X,W)\n",
        "        W = W - step*g*B\n",
        "        error = np.linalg.norm(step*g*B,ord='fro')\n",
        "        if  error<  tol:\n",
        "            break\n",
        "    print(error,F(X,W))\n",
        "    return W"
      ],
      "metadata": {
        "id": "smB-yqu3JW6x"
      },
      "execution_count": 10,
      "outputs": []
    },
    {
      "cell_type": "markdown",
      "source": [
        "## 主流程\n",
        "* 设置W初始值\n",
        "* 主循环\n",
        "* 遍历W d*d个元素，根据W[i,j]与tau值的大小关系，翻转当前元素W[i,j]\n",
        " * 保证翻转后，罚函数H(B)的取值严格降低，否则会死循环\n",
        " * 计算F(W),并记录最小值对应的 i_min,j_min,W_min\n",
        "* 更新W = W_min\n",
        "* 如果罚函数H(B)=0 结束循环，并返回W\n",
        "\n",
        "### 讨论：\n",
        "* 考虑F(W)无H(W)约束下，直接梯度下降法，得到的F(W)是最小的，\n",
        "在加入H(W)约束后，会导致F(W)增加，优选选择使得F(W)上升最慢的方向，同时保证H(W)严格下降\n",
        "* 如果直接用阿格朗日法求解，存在F增长，与H下降两者难均衡问题，一个思路是不是增加\\alpha \\rho,而是减小；或者增加参数\\beta 来控制F增加过快导致无法充分搜索W空间的问题；\n",
        "* 之前有思路是将W矩阵空间看成是不同的DAG等价类组成的集合：称之为马尔可夫毯集合，遍历其中元素寻找最符合评分函数的那个类，再在类中按照某个方式选最合适的那个DAG。问题是：这种搜索完全回避了非DAG空间，导致无环约束H(W)的存在成为鸡肋；"
      ],
      "metadata": {
        "id": "3PckG0tBQRtO"
      }
    },
    {
      "cell_type": "code",
      "source": [
        "def solve_h(W, X,tau=0.01,alpha=0.1,rho=1,max_iter=1000):\n",
        "    #如果能够在所有的DAG里面进行搜索，就会好很多。\n",
        "    # 如果所有的DAG都是极值点的话。。。。\n",
        "    n, d = X.shape\n",
        "    W = solve_F(X,W)#相当于带约束求解； 能否假设，带约束的解空间最小值大于不带约束的解空间的最小值；\n",
        "    W_old = W.copy()\n",
        "    #B = (np.abs(W)>=tau).astype(int)\n",
        "    #B = np.ones((d,d))\n",
        "    last_i = -1\n",
        "    last_j = -1\n",
        "    for it in range(max_iter):\n",
        "        least_F = 1e10 #F(X,W)\n",
        "        new_last_i = -1\n",
        "        new_last_j = -1\n",
        "        Best_W = W.copy()\n",
        "        for i in range(d):\n",
        "            for j in range(d):\n",
        "                if i ==  last_i and j == last_j:\n",
        "                    continue\n",
        "                # search from unconstrained solution,try to satisfy the constraint\n",
        "                Wp = W.copy()\n",
        "                #flip W\n",
        "                if W[i,j] >= tau or W[i,j] <= -tau:\n",
        "                    W[i,j] = 0\n",
        "                else:\n",
        "                    W[i,j] = W_old[i,j]\n",
        "                    if W[i,j] < tau and W[i,j] > -tau:\n",
        "                        assert np.sign(W[i,j]) !=0\n",
        "                        W[i,j] = tau*np.sign(W[i,j])\n",
        "\n",
        "                    # W[j,i] = 0\n",
        "                # assert F will increase and H will decrease\n",
        "                # assert  zeros in unconstrained min value of W  is also zeoro in real W,\n",
        "                # so H must decrease. generally init value of W is full dense graph\n",
        "                if H(B(W)) >= H(B(Wp)):\n",
        "                # it seems that always circle\n",
        "                #,for example  W[0,1]=1, W[1,0]=1 need break it\n",
        "                #,so maybe H should rigorly decrease\n",
        "                    W = Wp\n",
        "                    continue\n",
        "                # find the value F increase least\n",
        "                new_F = F(X,W) #+ alpha*H(B)+0.5*rho*H(B)**2\n",
        "                print(i,j,W[i,j],new_F)\n",
        "                if least_F > new_F:\n",
        "                    least_F = new_F\n",
        "                    Best_W = W\n",
        "                    new_last_i = i\n",
        "                    new_last_j = j\n",
        "                W = Wp\n",
        "        W = Best_W.copy()\n",
        "        last_i = new_last_i\n",
        "        last_j = new_last_j\n",
        "        print('iter:',it,least_F,H(B(W)),\"chosen:\",last_i,last_j,W[last_i,last_j])\n",
        "        print(W)\n",
        "        if H(B(W)) == 0:\n",
        "            break\n",
        "    return W*B(W)"
      ],
      "metadata": {
        "id": "jBtTn5-aJiUO"
      },
      "execution_count": 18,
      "outputs": []
    },
    {
      "cell_type": "code",
      "source": [
        "def solve_all(X,lamda=0.1):\n",
        "    X = X - np.mean(X, axis=0, keepdims=True)\n",
        "    d = X.shape[1]\n",
        "    W = np.zeros((d,d))\n",
        "    B = np.ones((d,d))\n",
        "    #loss = np.norm(X-X@W,ord='fro')**2 #减均值，除方差；\n",
        "    W = solve_h(W,X)\n",
        "    print(W)\n",
        "    #X-X@W=(I-W)X=E n个独立的高斯分布；计算每一行与高斯分布的相似性；均值方差；\n",
        "    #独立性假设，与最小二乘法；\n",
        "    return W"
      ],
      "metadata": {
        "id": "4lBNhv1qQNZN"
      },
      "execution_count": 19,
      "outputs": []
    },
    {
      "cell_type": "code",
      "source": [
        "#main\n",
        "import sys\n",
        "sys.path.insert(0, './notears')\n",
        "from notears import utils\n",
        "#控制随机种子\n",
        "utils.set_random_seed(0)\n",
        "#设置矩阵随机的参数d是维度，s0是非0元素个数\n",
        "n, d, s0, graph_type, sem_type = 100, 3, 1, 'ER', 'gauss'\n",
        "#得到0，1矩阵\n",
        "B_true = utils.simulate_dag(d, s0, graph_type)\n",
        "#随机填充B得到W，默认高斯分布\n",
        "W_true = utils.simulate_parameter(B_true)\n",
        "#np.savetxt('W_true2.csv', W_true, delimiter=',')\n",
        "#根据W生成样本\n",
        "X = utils.simulate_linear_sem(W_true, n, sem_type)\n",
        "#np.savetxt('X2.csv', X, delimiter=',')\n",
        "\n",
        "W_est = solve_all(X,lamda=0.1)\n",
        "print(\"-----------------------accuracy---------------------------------\")\n",
        "#检查是否是DAG\n",
        "assert utils.is_dag(W_est)\n",
        "#np.savetxt('W_est2.csv', W_est, delimiter=',')\n",
        "#计算指标\n",
        "acc = utils.count_accuracy(B_true, W_est != 0)\n",
        "print(f\"accuracy = {acc}\")\n",
        "print(\"-----------------------compare---------------------------------\")\n",
        "print(f'estimated:\\n{W_est}')\n",
        "print(\"--------------------------------------------------------\")\n",
        "print(f\"true:\\n:{W_true}\")\n",
        "print(\"--------------------------------------------------------\")\n"
      ],
      "metadata": {
        "colab": {
          "base_uri": "https://localhost:8080/"
        },
        "id": "bF6QmZttJmC2",
        "outputId": "00b9c8f7-5eeb-4a13-822f-4e8bc5b517ee"
      },
      "execution_count": 20,
      "outputs": [
        {
          "output_type": "stream",
          "name": "stdout",
          "text": [
            "0.003497235323917327 267.2251134538994\n",
            "0 0 0.0 277.38077862578706\n",
            "0 2 0.0 303.6119683838644\n",
            "1 1 0.0 281.23285080064613\n",
            "1 2 0.0 267.3934165065138\n",
            "2 0 0.0 314.7754418236585\n",
            "2 1 0.0 267.4450869491839\n",
            "2 2 0.0 608.6408956338087\n",
            "iter: 0 267.3934165065138 8.107337927389697 chosen: 1 2 0.0\n",
            "[[ 0.078944    0.0034418   0.15586116]\n",
            " [ 0.0034418   0.08371552  0.        ]\n",
            " [ 0.15586116 -0.01044511  0.41504964]]\n",
            "0 0 0.0 277.5490816784014\n",
            "0 1 0.01 267.34322084360554\n",
            "0 2 0.0 303.7721546085477\n",
            "1 1 0.0 281.40115385326044\n",
            "2 0 0.0 314.9437448762728\n",
            "2 2 0.0 608.9296301330328\n",
            "iter: 1 267.34322084360554 8.107337927389693 chosen: 0 1 0.01\n",
            "[[ 0.078944    0.01        0.15586116]\n",
            " [ 0.0034418   0.08371552  0.        ]\n",
            " [ 0.15586116 -0.01044511  0.41504964]]\n",
            "0 0 0.0 277.49888601549304\n",
            "0 2 0.0 303.7219589456394\n",
            "1 1 0.0 281.34822086639434\n",
            "2 0 0.0 314.89354921336457\n",
            "2 2 0.0 608.8794344701244\n",
            "iter: 2 277.49888601549304 5.300450554543119 chosen: 0 0 0.0\n",
            "[[ 0.          0.01        0.15586116]\n",
            " [ 0.0034418   0.08371552  0.        ]\n",
            " [ 0.15586116 -0.01044511  0.41504964]]\n",
            "0 2 0.0 313.87762411752703\n",
            "1 1 0.0 291.50388603828213\n",
            "2 0 0.0 330.2917412411198\n",
            "2 2 0.0 619.0350996420119\n",
            "iter: 3 291.50388603828213 3.582168726084074 chosen: 1 1 0.0\n",
            "[[ 0.          0.01        0.15586116]\n",
            " [ 0.0034418   0.          0.        ]\n",
            " [ 0.15586116 -0.01044511  0.41504964]]\n",
            "0 2 0.0 327.88262414031607\n",
            "2 0 0.0 344.29674126390876\n",
            "2 2 0.0 633.0400996648009\n",
            "iter: 4 327.88262414031607 1.7182818284590455 chosen: 0 2 0.0\n",
            "[[ 0.          0.01        0.        ]\n",
            " [ 0.0034418   0.          0.        ]\n",
            " [ 0.15586116 -0.01044511  0.41504964]]\n",
            "2 2 0.0 696.9815261384684\n",
            "iter: 5 696.9815261384684 0.0 chosen: 2 2 0.0\n",
            "[[ 0.          0.01        0.        ]\n",
            " [ 0.0034418   0.          0.        ]\n",
            " [ 0.15586116 -0.01044511  0.        ]]\n",
            "[[ 0.          0.01        0.        ]\n",
            " [ 0.          0.          0.        ]\n",
            " [ 0.15586116 -0.01044511  0.        ]]\n",
            "-----------------------accuracy---------------------------------\n",
            "accuracy = {'fdr': 1.0, 'tpr': 0.0, 'fpr': 1.5, 'shd': 3, 'nnz': 3}\n",
            "-----------------------compare---------------------------------\n",
            "estimated:\n",
            "[[ 0.          0.01        0.        ]\n",
            " [ 0.          0.          0.        ]\n",
            " [ 0.15586116 -0.01044511  0.        ]]\n",
            "--------------------------------------------------------\n",
            "true:\n",
            ":[[0.         0.         1.93573274]\n",
            " [0.         0.         0.        ]\n",
            " [0.         0.         0.        ]]\n",
            "--------------------------------------------------------\n"
          ]
        }
      ]
    },
    {
      "cell_type": "markdown",
      "source": [],
      "metadata": {
        "id": "Wd2wmTn8NII1"
      }
    }
  ]
}